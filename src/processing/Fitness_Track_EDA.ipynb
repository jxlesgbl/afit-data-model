{
  "metadata": {
    "kernelspec": {
      "language": "python",
      "display_name": "Python 3",
      "name": "python3"
    },
    "language_info": {
      "name": "python",
      "version": "3.10.14",
      "mimetype": "text/x-python",
      "codemirror_mode": {
        "name": "ipython",
        "version": 3
      },
      "pygments_lexer": "ipython3",
      "nbconvert_exporter": "python",
      "file_extension": ".py"
    },
    "kaggle": {
      "accelerator": "none",
      "dataSources": [
        {
          "sourceId": 10064111,
          "sourceType": "datasetVersion",
          "datasetId": 6202253
        }
      ],
      "dockerImageVersionId": 30804,
      "isInternetEnabled": true,
      "language": "python",
      "sourceType": "notebook",
      "isGpuEnabled": false
    },
    "colab": {
      "provenance": []
    }
  },
  "nbformat_minor": 0,
  "nbformat": 4,
  "cells": [
    {
      "source": [
        "# IMPORTANT: RUN THIS CELL IN ORDER TO IMPORT YOUR KAGGLE DATA SOURCES,\n",
        "# THEN FEEL FREE TO DELETE THIS CELL.\n",
        "# NOTE: THIS NOTEBOOK ENVIRONMENT DIFFERS FROM KAGGLE'S PYTHON\n",
        "# ENVIRONMENT SO THERE MAY BE MISSING LIBRARIES USED BY YOUR\n",
        "# NOTEBOOK.\n",
        "import kagglehub\n",
        "nadeemajeedch_fitness_tracker_dataset_path = kagglehub.dataset_download('nadeemajeedch/fitness-tracker-dataset')\n",
        "\n",
        "print('Data source import complete.')\n"
      ],
      "metadata": {
        "id": "cyMeIkcFsL-I"
      },
      "cell_type": "code",
      "outputs": [],
      "execution_count": null
    },
    {
      "cell_type": "code",
      "source": [
        "# This Python 3 environment comes with many helpful analytics libraries installed\n",
        "# It is defined by the kaggle/python Docker image: https://github.com/kaggle/docker-python\n",
        "# For example, here's several helpful packages to load\n",
        "\n",
        "import numpy as np # linear algebra\n",
        "import pandas as pd # data processing, CSV file I/O (e.g. pd.read_csv)\n",
        "import seaborn as sns\n",
        "import matplotlib.pyplot as plt\n",
        "\n",
        "# Input data files are available in the read-only \"../input/\" directory\n",
        "# For example, running this (by clicking run or pressing Shift+Enter) will list all files under the input directory\n",
        "\n",
        "import os\n",
        "for dirname, _, filenames in os.walk('/kaggle/input'):\n",
        "    for filename in filenames:\n",
        "        print(os.path.join(dirname, filename))\n",
        "\n",
        "# You can write up to 20GB to the current directory (/kaggle/working/) that gets preserved as output when you create a version using \"Save & Run All\"\n",
        "# You can also write temporary files to /kaggle/temp/, but they won't be saved outside of the current session"
      ],
      "metadata": {
        "_uuid": "8f2839f25d086af736a60e9eeb907d3b93b6e0e5",
        "_cell_guid": "b1076dfc-b9ad-4769-8c92-a6c4dae69d19",
        "trusted": true,
        "execution": {
          "iopub.status.busy": "2024-12-05T20:35:00.217851Z",
          "iopub.execute_input": "2024-12-05T20:35:00.218521Z",
          "iopub.status.idle": "2024-12-05T20:35:00.22662Z",
          "shell.execute_reply.started": "2024-12-05T20:35:00.218483Z",
          "shell.execute_reply": "2024-12-05T20:35:00.22551Z"
        },
        "id": "_mpEa4rBsL-J"
      },
      "outputs": [],
      "execution_count": null
    },
    {
      "cell_type": "markdown",
      "source": [
        "# **Load Dataset and EDA**"
      ],
      "metadata": {
        "id": "AdItP02usL-J"
      }
    },
    {
      "cell_type": "code",
      "source": [
        "data = pd.read_csv('/kaggle/input/gym_members_exercise_tracking_synthetic_data.csv')"
      ],
      "metadata": {
        "trusted": true,
        "execution": {
          "iopub.status.busy": "2024-12-05T20:35:00.228813Z",
          "iopub.execute_input": "2024-12-05T20:35:00.229574Z",
          "iopub.status.idle": "2024-12-05T20:35:00.247835Z",
          "shell.execute_reply.started": "2024-12-05T20:35:00.229528Z",
          "shell.execute_reply": "2024-12-05T20:35:00.246844Z"
        },
        "id": "IxOBmAe8sL-K"
      },
      "outputs": [],
      "execution_count": null
    },
    {
      "cell_type": "code",
      "source": [
        "data.head()"
      ],
      "metadata": {
        "trusted": true,
        "execution": {
          "iopub.status.busy": "2024-12-05T20:35:00.249202Z",
          "iopub.execute_input": "2024-12-05T20:35:00.249597Z",
          "iopub.status.idle": "2024-12-05T20:35:00.270482Z",
          "shell.execute_reply.started": "2024-12-05T20:35:00.249553Z",
          "shell.execute_reply": "2024-12-05T20:35:00.269244Z"
        },
        "id": "Ke4a2jIQsL-K"
      },
      "outputs": [],
      "execution_count": null
    },
    {
      "cell_type": "code",
      "source": [
        "# dataset information\n",
        "print(data.info())"
      ],
      "metadata": {
        "trusted": true,
        "execution": {
          "iopub.status.busy": "2024-12-05T20:35:00.273398Z",
          "iopub.execute_input": "2024-12-05T20:35:00.274404Z",
          "iopub.status.idle": "2024-12-05T20:35:00.289224Z",
          "shell.execute_reply.started": "2024-12-05T20:35:00.274356Z",
          "shell.execute_reply": "2024-12-05T20:35:00.288117Z"
        },
        "id": "p8vWUGOusL-K"
      },
      "outputs": [],
      "execution_count": null
    },
    {
      "cell_type": "code",
      "source": [
        "# Descriptive statistics\n",
        "print(data.describe())"
      ],
      "metadata": {
        "trusted": true,
        "execution": {
          "iopub.status.busy": "2024-12-05T20:35:00.290341Z",
          "iopub.execute_input": "2024-12-05T20:35:00.290658Z",
          "iopub.status.idle": "2024-12-05T20:35:00.329181Z",
          "shell.execute_reply.started": "2024-12-05T20:35:00.290627Z",
          "shell.execute_reply": "2024-12-05T20:35:00.328231Z"
        },
        "id": "RZ6S1xSWsL-L"
      },
      "outputs": [],
      "execution_count": null
    },
    {
      "cell_type": "markdown",
      "source": [
        "\n",
        "**Age: Median age is around 33 years. Most participants are young adults aged 20–40.BMI: Median BMI is approximately 19.96, indicating a healthy average range.Calories_Burned: Median is ~1,034, with a broad range from 303 to 1,783.**\n"
      ],
      "metadata": {
        "id": "gL2gQdI6sL-L"
      }
    },
    {
      "cell_type": "code",
      "source": [
        "# checking for null values\n",
        "print(data.isnull().sum())"
      ],
      "metadata": {
        "trusted": true,
        "execution": {
          "iopub.status.busy": "2024-12-05T20:35:00.330513Z",
          "iopub.execute_input": "2024-12-05T20:35:00.330918Z",
          "iopub.status.idle": "2024-12-05T20:35:00.337817Z",
          "shell.execute_reply.started": "2024-12-05T20:35:00.330871Z",
          "shell.execute_reply": "2024-12-05T20:35:00.336751Z"
        },
        "id": "bEfzp3hLsL-L"
      },
      "outputs": [],
      "execution_count": null
    },
    {
      "cell_type": "code",
      "source": [
        "# Handle missing values\n",
        "# Numerical columns: Fill missing values with the median\n",
        "num_cols = data.select_dtypes(include=['float64']).columns\n",
        "data[num_cols] = data[num_cols].fillna(data[num_cols].median())\n",
        "\n",
        "# Categorical columns: Fill missing values with the mode\n",
        "cat_cols = data.select_dtypes(include=['object']).columns\n",
        "data[cat_cols] = data[cat_cols].fillna(data[cat_cols].mode().iloc[0])\n",
        "\n",
        "# Convert 'Max_BPM' to numeric (handle non-numeric values if any)\n",
        "data['Max_BPM'] = pd.to_numeric(data['Max_BPM'], errors='coerce')\n",
        "data['Max_BPM'] = data['Max_BPM'].fillna(data['Max_BPM'].median())"
      ],
      "metadata": {
        "trusted": true,
        "execution": {
          "iopub.status.busy": "2024-12-05T20:35:00.339128Z",
          "iopub.execute_input": "2024-12-05T20:35:00.339521Z",
          "iopub.status.idle": "2024-12-05T20:35:00.367242Z",
          "shell.execute_reply.started": "2024-12-05T20:35:00.339477Z",
          "shell.execute_reply": "2024-12-05T20:35:00.366206Z"
        },
        "id": "lU9P5lRXsL-L"
      },
      "outputs": [],
      "execution_count": null
    },
    {
      "cell_type": "code",
      "source": [
        "# Check for missing values (after cleaning)\n",
        "missing_values = data.isnull().sum()\n",
        "print(\"Missing Values after Cleaning:\")\n",
        "print(missing_values)"
      ],
      "metadata": {
        "trusted": true,
        "execution": {
          "iopub.status.busy": "2024-12-05T20:35:00.368623Z",
          "iopub.execute_input": "2024-12-05T20:35:00.369419Z",
          "iopub.status.idle": "2024-12-05T20:35:00.37786Z",
          "shell.execute_reply.started": "2024-12-05T20:35:00.369371Z",
          "shell.execute_reply": "2024-12-05T20:35:00.376664Z"
        },
        "id": "SUqVRpyQsL-L"
      },
      "outputs": [],
      "execution_count": null
    },
    {
      "cell_type": "markdown",
      "source": [
        "**After cleaning, all missing values were handled. Numerical columns had missing values filled with their medians, and categorical columns with their modes.**"
      ],
      "metadata": {
        "id": "0h-_wDcHsL-L"
      }
    },
    {
      "cell_type": "code",
      "source": [
        "# Distribution of numerical features\n",
        "sns.set(style=\"whitegrid\", palette=\"muted\")\n",
        "plt.figure(figsize=(14, 10))\n",
        "\n",
        "num_features = [\n",
        "    \"Age\", \"Weight (kg)\", \"Height (m)\", \"BMI\", \"Calories_Burned\",\n",
        "    \"Session_Duration (hours)\", \"Fat_Percentage\", \"Water_Intake (liters)\"\n",
        "]\n",
        "\n",
        "for i, feature in enumerate(num_features, 1):\n",
        "    plt.subplot(4, 2, i)\n",
        "    sns.histplot(data[feature], kde=True, bins=30, color=\"skyblue\")\n",
        "    plt.title(f\"Distribution of {feature}\")\n",
        "    plt.xlabel(feature)\n",
        "    plt.ylabel(\"Frequency\")\n",
        "\n",
        "plt.tight_layout()\n",
        "plt.show()\n"
      ],
      "metadata": {
        "trusted": true,
        "execution": {
          "iopub.status.busy": "2024-12-05T20:35:00.379401Z",
          "iopub.execute_input": "2024-12-05T20:35:00.37971Z",
          "iopub.status.idle": "2024-12-05T20:35:03.174366Z",
          "shell.execute_reply.started": "2024-12-05T20:35:00.37968Z",
          "shell.execute_reply": "2024-12-05T20:35:03.173328Z"
        },
        "id": "m5m50Si6sL-M"
      },
      "outputs": [],
      "execution_count": null
    },
    {
      "cell_type": "markdown",
      "source": [
        "\n",
        "**Age, Weight, and BMI show right-skewed distributions, indicating a concentration in the lower ranges.Calories_Burned: A wide range with a peak near 1,000 calories.Session_Duration: Most users work out between 1–1.5 hours per session.**\n"
      ],
      "metadata": {
        "id": "kLsCcC3isL-M"
      }
    },
    {
      "cell_type": "code",
      "source": [
        "# Boxplots for detecting outliers\n",
        "plt.figure(figsize=(14, 10))\n",
        "\n",
        "for i, feature in enumerate(num_features, 1):\n",
        "    plt.subplot(4, 2, i)\n",
        "    sns.boxplot(data=data[feature], color=\"orange\")\n",
        "    plt.title(f\"Boxplot of {feature}\")\n",
        "    plt.xlabel(feature)\n",
        "\n",
        "plt.tight_layout()\n",
        "plt.show()"
      ],
      "metadata": {
        "trusted": true,
        "execution": {
          "iopub.status.busy": "2024-12-05T20:35:03.177025Z",
          "iopub.execute_input": "2024-12-05T20:35:03.177349Z",
          "iopub.status.idle": "2024-12-05T20:35:04.575855Z",
          "shell.execute_reply.started": "2024-12-05T20:35:03.177318Z",
          "shell.execute_reply": "2024-12-05T20:35:04.574828Z"
        },
        "id": "ItbD9_4PsL-M"
      },
      "outputs": [],
      "execution_count": null
    },
    {
      "cell_type": "code",
      "source": [
        "# Correlation heatmap\n",
        "numerical_data = data.select_dtypes(include=['float64', 'int64'])\n",
        "correlation_matrix = numerical_data.corr()\n",
        "plt.figure(figsize=(12, 8))\n",
        "sns.heatmap(correlation_matrix, annot=True, fmt=\".2f\", cmap=\"coolwarm\", cbar=True)\n",
        "plt.title(\"Correlation Matrix of Numerical Features\")\n",
        "plt.show()"
      ],
      "metadata": {
        "trusted": true,
        "execution": {
          "iopub.status.busy": "2024-12-05T20:35:04.57732Z",
          "iopub.execute_input": "2024-12-05T20:35:04.578191Z",
          "iopub.status.idle": "2024-12-05T20:35:05.38613Z",
          "shell.execute_reply.started": "2024-12-05T20:35:04.578145Z",
          "shell.execute_reply": "2024-12-05T20:35:05.385048Z"
        },
        "id": "2dlnBqRmsL-M"
      },
      "outputs": [],
      "execution_count": null
    },
    {
      "cell_type": "markdown",
      "source": [
        "\n",
        "**Calories_Burned strongly correlates with Session_Duration and Avg_BPM, which is expected since longer and more intense workouts burn more calories.BMI correlates moderately with Fat_Percentage and Weight.Weak correlations exist between Age and most other variables.**\n"
      ],
      "metadata": {
        "id": "7yNDXrlPsL-M"
      }
    },
    {
      "cell_type": "code",
      "source": [
        "# Categorical data distributions\n",
        "categorical_features = [\"Gender\", \"Workout_Type\"]\n",
        "plt.figure(figsize=(12, 5))\n",
        "\n",
        "for i, feature in enumerate(categorical_features, 1):\n",
        "    plt.subplot(1, 2, i)\n",
        "    sns.countplot(data=data, x=feature, palette=\"Set2\")\n",
        "    plt.title(f\"Countplot of {feature}\")\n",
        "    plt.xlabel(feature)\n",
        "    plt.ylabel(\"Count\")\n",
        "\n",
        "plt.tight_layout()\n",
        "plt.show()"
      ],
      "metadata": {
        "trusted": true,
        "execution": {
          "iopub.status.busy": "2024-12-05T20:35:05.387746Z",
          "iopub.execute_input": "2024-12-05T20:35:05.388103Z",
          "iopub.status.idle": "2024-12-05T20:35:05.865735Z",
          "shell.execute_reply.started": "2024-12-05T20:35:05.388071Z",
          "shell.execute_reply": "2024-12-05T20:35:05.864741Z"
        },
        "id": "FcoRD3xasL-M"
      },
      "outputs": [],
      "execution_count": null
    },
    {
      "cell_type": "markdown",
      "source": [
        "\n",
        "**Gender Distribution:Fairly balanced between male and female participants.**\n",
        "\n",
        "\n",
        "\n",
        "**Workout_Type:Most participants engage in either strength training or cardio**\n"
      ],
      "metadata": {
        "id": "l73pf_wvsL-M"
      }
    },
    {
      "cell_type": "markdown",
      "source": [
        "# **Decsision Tree Model**"
      ],
      "metadata": {
        "id": "0QpQGfhpsL-M"
      }
    },
    {
      "cell_type": "code",
      "source": [
        "from sklearn.model_selection import train_test_split, GridSearchCV\n",
        "from sklearn.tree import DecisionTreeRegressor\n",
        "from sklearn.metrics import mean_squared_error, r2_score\n",
        "import numpy as np"
      ],
      "metadata": {
        "trusted": true,
        "execution": {
          "iopub.status.busy": "2024-12-05T20:35:05.867091Z",
          "iopub.execute_input": "2024-12-05T20:35:05.867383Z",
          "iopub.status.idle": "2024-12-05T20:35:05.871727Z",
          "shell.execute_reply.started": "2024-12-05T20:35:05.867354Z",
          "shell.execute_reply": "2024-12-05T20:35:05.870808Z"
        },
        "id": "1qPijpTdsL-N"
      },
      "outputs": [],
      "execution_count": null
    },
    {
      "cell_type": "code",
      "source": [
        "# Define target variable and features\n",
        "target = \"Calories_Burned\"\n",
        "features = data.drop(columns=[target, \"Gender\", \"Workout_Type\"])  # Drop target and categorical columns\n",
        "\n",
        "X = features  # Features\n",
        "y = data[target]  # Target variable\n",
        "\n",
        "# Split data into training and testing sets\n",
        "X_train, X_test, y_train, y_test = train_test_split(X, y, test_size=0.2, random_state=42)"
      ],
      "metadata": {
        "trusted": true,
        "execution": {
          "iopub.status.busy": "2024-12-05T20:35:05.873129Z",
          "iopub.execute_input": "2024-12-05T20:35:05.873861Z",
          "iopub.status.idle": "2024-12-05T20:35:05.888169Z",
          "shell.execute_reply.started": "2024-12-05T20:35:05.873815Z",
          "shell.execute_reply": "2024-12-05T20:35:05.887198Z"
        },
        "id": "ttg4K8-hsL-N"
      },
      "outputs": [],
      "execution_count": null
    },
    {
      "cell_type": "code",
      "source": [
        "#  Model Training\n",
        "# Initialize Random Forest Regressor\n",
        "dt_model = DecisionTreeRegressor(random_state=38)\n",
        "\n",
        "# Train the model\n",
        "dt_model.fit(X_train, y_train)"
      ],
      "metadata": {
        "trusted": true,
        "execution": {
          "iopub.status.busy": "2024-12-05T20:35:05.889355Z",
          "iopub.execute_input": "2024-12-05T20:35:05.889649Z",
          "iopub.status.idle": "2024-12-05T20:35:05.922253Z",
          "shell.execute_reply.started": "2024-12-05T20:35:05.889621Z",
          "shell.execute_reply": "2024-12-05T20:35:05.921323Z"
        },
        "id": "Wb-lb49TsL-N"
      },
      "outputs": [],
      "execution_count": null
    },
    {
      "cell_type": "code",
      "source": [
        "# Model Evaluation\n",
        "# Make predictions\n",
        "\n",
        "y_pred = dt_model.predict(X_test)\n",
        "\n",
        "# Calculate metrics\n",
        "mse = mean_squared_error(y_test, y_pred)\n",
        "rmse = np.sqrt(mse)\n",
        "r2 = r2_score(y_test, y_pred)\n",
        "\n",
        "print(f\"Mean Squared Error: {mse:.2f}\")\n",
        "print(f\"Root Mean Squared Error: {rmse:.2f}\")\n",
        "print(f\"R² Score: {r2:.2f}\")"
      ],
      "metadata": {
        "trusted": true,
        "execution": {
          "iopub.status.busy": "2024-12-05T20:35:05.923369Z",
          "iopub.execute_input": "2024-12-05T20:35:05.923639Z",
          "iopub.status.idle": "2024-12-05T20:35:05.93325Z",
          "shell.execute_reply.started": "2024-12-05T20:35:05.923613Z",
          "shell.execute_reply": "2024-12-05T20:35:05.932144Z"
        },
        "id": "rR2wKUfBsL-N"
      },
      "outputs": [],
      "execution_count": null
    },
    {
      "cell_type": "code",
      "source": [
        "# Visualization\n",
        "\n",
        "# Scatter plot of Actual vs Predicted values\n",
        "plt.figure(figsize=(8, 6))\n",
        "sns.scatterplot(x=y_test, y=y_pred, alpha=0.7, color=\"blue\")\n",
        "plt.plot([y_test.min(), y_test.max()], [y_test.min(), y_test.max()], color=\"red\", linestyle=\"--\")\n",
        "plt.title(\"Actual vs Predicted Calories Burned\")\n",
        "plt.xlabel(\"Actual Calories Burned\")\n",
        "plt.ylabel(\"Predicted Calories Burned\")\n",
        "plt.show()\n"
      ],
      "metadata": {
        "trusted": true,
        "execution": {
          "iopub.status.busy": "2024-12-05T20:35:05.934445Z",
          "iopub.execute_input": "2024-12-05T20:35:05.934719Z",
          "iopub.status.idle": "2024-12-05T20:35:06.284478Z",
          "shell.execute_reply.started": "2024-12-05T20:35:05.934691Z",
          "shell.execute_reply": "2024-12-05T20:35:06.283464Z"
        },
        "id": "b5kjEZR1sL-N"
      },
      "outputs": [],
      "execution_count": null
    },
    {
      "cell_type": "code",
      "source": [
        "# Feature Importance Plot\n",
        "feature_importances = pd.Series(dt_model.feature_importances_, index=X.columns).sort_values(ascending=False)\n",
        "\n",
        "plt.figure(figsize=(10, 6))\n",
        "sns.barplot(x=feature_importances, y=feature_importances.index, palette=\"viridis\")\n",
        "plt.title(\"Feature Importance in Random Forest Model\")\n",
        "plt.xlabel(\"Importance\")\n",
        "plt.ylabel(\"Features\")\n",
        "plt.show()"
      ],
      "metadata": {
        "trusted": true,
        "execution": {
          "iopub.status.busy": "2024-12-05T20:35:06.285803Z",
          "iopub.execute_input": "2024-12-05T20:35:06.286125Z",
          "iopub.status.idle": "2024-12-05T20:35:06.648174Z",
          "shell.execute_reply.started": "2024-12-05T20:35:06.286094Z",
          "shell.execute_reply": "2024-12-05T20:35:06.647173Z"
        },
        "id": "bjcr-CdosL-N"
      },
      "outputs": [],
      "execution_count": null
    }
  ]
}